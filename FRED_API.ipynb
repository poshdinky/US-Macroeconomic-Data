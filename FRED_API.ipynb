{
 "cells": [
  {
   "cell_type": "code",
   "execution_count": 7,
   "id": "8d3fc989-7ef8-43f8-ab2c-1fb8f60bfa0c",
   "metadata": {},
   "outputs": [],
   "source": [
    "# Dependencies\n",
    "import requests\n",
    "import pandas as pd\n",
    "import pymongo\n",
    "from config import api_key\n",
    "import time"
   ]
  },
  {
   "cell_type": "code",
   "execution_count": 32,
   "id": "bfca92e3-f1ca-4782-bee9-4341e22b964d",
   "metadata": {},
   "outputs": [],
   "source": [
    "# Define year range, initialize date list, append range of years to date list\n",
    "year_range = range(1960, 2023)\n",
    "\n",
    "dates = []\n",
    "\n",
    "for year in year_range:\n",
    "    dates.append(f\"{year}-01-01\")"
   ]
  },
  {
   "cell_type": "code",
   "execution_count": 49,
   "id": "cd6552e8-4b4d-4f81-ac8d-6b8831790539",
   "metadata": {},
   "outputs": [],
   "source": [
    "# Loop\n",
    "# WIPCPI = per capita income\n",
    "# Inflation = FPCPITOTLZGUS\n",
    "#\n",
    "\n",
    "years={}\n",
    "for date in dates:\n",
    "    try:\n",
    "        base_url = f\"https://api.stlouisfed.org/geofred/series/data?series_id=MEHOINUSA672N&api_key={api_key}&file_type=json&date={date}\"\n",
    "        response = requests.get(base_url)\n",
    "        json = response.json()\n",
    "        years[date] = json\n",
    "        time.sleep(0.5)\n",
    "    except:\n",
    "        pass"
   ]
  },
  {
   "cell_type": "code",
   "execution_count": 50,
   "id": "bb3f827a-487f-428d-a744-1a4acb80b50a",
   "metadata": {},
   "outputs": [
    {
     "data": {
      "text/plain": [
       "{'error_code': 500, 'error_message': 'Internal Server Error'}"
      ]
     },
     "execution_count": 50,
     "metadata": {},
     "output_type": "execute_result"
    }
   ],
   "source": [
    "json"
   ]
  },
  {
   "cell_type": "code",
   "execution_count": 40,
   "id": "393caa98-2328-43b9-9610-b422452dbc36",
   "metadata": {},
   "outputs": [
    {
     "data": {
      "text/plain": [
       "{'error_code': 500, 'error_message': 'Internal Server Error'}"
      ]
     },
     "execution_count": 42,
     "metadata": {},
     "output_type": "execute_result"
    }
   ],
   "source": [
    "for k,v in years.items():\n",
    "    print(k,v)"
   ]
  },
  {
   "cell_type": "code",
   "execution_count": 34,
   "id": "7c4aa4bc-2fba-4a7b-badc-53c92b5c9061",
   "metadata": {},
   "outputs": [
    {
     "data": {
      "text/plain": [
       "['1960-01-01',\n",
       " '1961-01-01',\n",
       " '1962-01-01',\n",
       " '1963-01-01',\n",
       " '1964-01-01',\n",
       " '1965-01-01',\n",
       " '1966-01-01',\n",
       " '1967-01-01',\n",
       " '1968-01-01',\n",
       " '1969-01-01',\n",
       " '1970-01-01',\n",
       " '1971-01-01',\n",
       " '1972-01-01',\n",
       " '1973-01-01',\n",
       " '1974-01-01',\n",
       " '1975-01-01',\n",
       " '1976-01-01',\n",
       " '1977-01-01',\n",
       " '1978-01-01',\n",
       " '1979-01-01',\n",
       " '1980-01-01',\n",
       " '1981-01-01',\n",
       " '1982-01-01',\n",
       " '1983-01-01',\n",
       " '1984-01-01',\n",
       " '1985-01-01',\n",
       " '1986-01-01',\n",
       " '1987-01-01',\n",
       " '1988-01-01',\n",
       " '1989-01-01',\n",
       " '1990-01-01',\n",
       " '1991-01-01',\n",
       " '1992-01-01',\n",
       " '1993-01-01',\n",
       " '1994-01-01',\n",
       " '1995-01-01',\n",
       " '1996-01-01',\n",
       " '1997-01-01',\n",
       " '1998-01-01',\n",
       " '1999-01-01',\n",
       " '2000-01-01',\n",
       " '2001-01-01',\n",
       " '2002-01-01',\n",
       " '2003-01-01',\n",
       " '2004-01-01',\n",
       " '2005-01-01',\n",
       " '2006-01-01',\n",
       " '2007-01-01',\n",
       " '2008-01-01',\n",
       " '2009-01-01',\n",
       " '2010-01-01',\n",
       " '2011-01-01',\n",
       " '2012-01-01',\n",
       " '2013-01-01',\n",
       " '2014-01-01',\n",
       " '2015-01-01',\n",
       " '2016-01-01',\n",
       " '2017-01-01',\n",
       " '2018-01-01',\n",
       " '2019-01-01',\n",
       " '2020-01-01',\n",
       " '2021-01-01',\n",
       " '2022-01-01']"
      ]
     },
     "execution_count": 34,
     "metadata": {},
     "output_type": "execute_result"
    }
   ],
   "source": [
    "base_url = f\"https://api.stlouisfed.org/geofred/series/data?series_id=WIPCPI&api_key=c82f74f68dea8fdb2f06ed59a977dfac&file_type=json&date=2022-01-01\""
   ]
  },
  {
   "cell_type": "code",
   "execution_count": 29,
   "id": "1dd75983-9993-4d6b-8d44-3b04574bd277",
   "metadata": {},
   "outputs": [],
   "source": [
    "response = requests.get(url)\n",
    "json = response.json()"
   ]
  },
  {
   "cell_type": "code",
   "execution_count": 30,
   "id": "ae47f5cf-6758-4940-a905-df0b4d73ff95",
   "metadata": {},
   "outputs": [
    {
     "data": {
      "text/plain": [
       "'\\n\"This product uses the FRED® API but is not endorsed or certified by \\nthe Federal Reserve Bank of St. Louis.\"\\n'"
      ]
     },
     "execution_count": 30,
     "metadata": {},
     "output_type": "execute_result"
    }
   ],
   "source": [
    "\"\"\"\n",
    "\"This product uses the FRED® API but is not endorsed or certified by \n",
    "the Federal Reserve Bank of St. Louis.\"\n",
    "\"\"\""
   ]
  },
  {
   "cell_type": "code",
   "execution_count": null,
   "id": "994d0bb7-61a0-4a97-846a-c70f40169207",
   "metadata": {},
   "outputs": [],
   "source": []
  }
 ],
 "metadata": {
  "kernelspec": {
   "display_name": "Python 3 (ipykernel)",
   "language": "python",
   "name": "python3"
  },
  "language_info": {
   "codemirror_mode": {
    "name": "ipython",
    "version": 3
   },
   "file_extension": ".py",
   "mimetype": "text/x-python",
   "name": "python",
   "nbconvert_exporter": "python",
   "pygments_lexer": "ipython3",
   "version": "3.9.7"
  }
 },
 "nbformat": 4,
 "nbformat_minor": 5
}
