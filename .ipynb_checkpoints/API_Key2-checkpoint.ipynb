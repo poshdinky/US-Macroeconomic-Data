{
 "cells": [
  {
   "cell_type": "code",
   "execution_count": 1,
   "id": "e30a392d-ee22-4c91-8394-9129ed5f4ec3",
   "metadata": {},
   "outputs": [
    {
     "name": "stdout",
     "output_type": "stream",
     "text": [
      "{'categories': [{'id': 125, 'name': 'Trade Balance', 'parent_id': 13}]}\n"
     ]
    }
   ],
   "source": [
    "from pprint import pprint\n",
    "from fred.client import FederalReserveClient\n",
    "\n",
    "from config import api_key\n",
    "\n",
    "# Initialize the Client.\n",
    "fred_client = FederalReserveClient(api_key=api_key)\n",
    "\n",
    "# Initialize the Categories Service.\n",
    "categories_service = fred_client.categories()\n",
    "\n",
    "# Grab a category by it's ID.\n",
    "pprint(categories_service.get_category(category_id='125'))"
   ]
  },
  {
   "cell_type": "code",
   "execution_count": 2,
   "id": "2e15f63f-04b9-4443-a487-1135eb147000",
   "metadata": {},
   "outputs": [
    {
     "data": {
      "text/plain": [
       "<FederalReserveClient.Categories (active=True, connected=True)>"
      ]
     },
     "execution_count": 2,
     "metadata": {},
     "output_type": "execute_result"
    }
   ],
   "source": []
  },
  {
   "cell_type": "code",
   "execution_count": null,
   "id": "5d01310b-aa68-4cb9-bbcd-91d7ab527fd8",
   "metadata": {},
   "outputs": [],
   "source": []
  }
 ],
 "metadata": {
  "kernelspec": {
   "display_name": "Python 3 (ipykernel)",
   "language": "python",
   "name": "python3"
  },
  "language_info": {
   "codemirror_mode": {
    "name": "ipython",
    "version": 3
   },
   "file_extension": ".py",
   "mimetype": "text/x-python",
   "name": "python",
   "nbconvert_exporter": "python",
   "pygments_lexer": "ipython3",
   "version": "3.9.7"
  }
 },
 "nbformat": 4,
 "nbformat_minor": 5
}
